{
 "cells": [
  {
   "cell_type": "code",
   "execution_count": 1,
   "id": "2e728619",
   "metadata": {
    "_cell_guid": "b1076dfc-b9ad-4769-8c92-a6c4dae69d19",
    "_uuid": "8f2839f25d086af736a60e9eeb907d3b93b6e0e5",
    "execution": {
     "iopub.execute_input": "2025-02-03T18:35:19.674796Z",
     "iopub.status.busy": "2025-02-03T18:35:19.674328Z",
     "iopub.status.idle": "2025-02-03T18:35:26.525363Z",
     "shell.execute_reply": "2025-02-03T18:35:26.524298Z"
    },
    "papermill": {
     "duration": 6.862788,
     "end_time": "2025-02-03T18:35:26.527423",
     "exception": false,
     "start_time": "2025-02-03T18:35:19.664635",
     "status": "completed"
    },
    "tags": []
   },
   "outputs": [],
   "source": [
    "import pandas as pd\n",
    "import numpy as np\n",
    "\n",
    "import seaborn as sns\n",
    "import matplotlib.pyplot as plt\n",
    "\n",
    "from sklearn.model_selection import train_test_split\n",
    "\n",
    "from sklearn.preprocessing import LabelEncoder\n",
    "from sklearn.preprocessing import StandardScaler\n",
    "\n",
    "from sklearn.linear_model import LinearRegression\n",
    "from sklearn.linear_model import Ridge\n",
    "from sklearn.linear_model import Lasso\n",
    "from sklearn.tree import DecisionTreeRegressor\n",
    "from sklearn.ensemble import RandomForestRegressor\n",
    "from sklearn.svm import SVR\n",
    "import lightgbm as lgb\n",
    "import xgboost as xgb\n",
    "\n",
    "from sklearn.metrics import mean_squared_log_error\n",
    "\n",
    "%matplotlib inline"
   ]
  },
  {
   "cell_type": "code",
   "execution_count": 2,
   "id": "626ff90c",
   "metadata": {
    "execution": {
     "iopub.execute_input": "2025-02-03T18:35:26.542389Z",
     "iopub.status.busy": "2025-02-03T18:35:26.541665Z",
     "iopub.status.idle": "2025-02-03T18:35:26.614810Z",
     "shell.execute_reply": "2025-02-03T18:35:26.613826Z"
    },
    "papermill": {
     "duration": 0.082356,
     "end_time": "2025-02-03T18:35:26.616881",
     "exception": false,
     "start_time": "2025-02-03T18:35:26.534525",
     "status": "completed"
    },
    "tags": []
   },
   "outputs": [],
   "source": [
    "SEED = 42\n",
    "\n",
    "df_tr = pd.read_csv(\"/kaggle/input/house-prices-advanced-regression-techniques/train.csv\")\n",
    "df_te = pd.read_csv(\"/kaggle/input/house-prices-advanced-regression-techniques/test.csv\")\n",
    "\n",
    "df_te[\"SalePrice\"] = 0"
   ]
  },
  {
   "cell_type": "code",
   "execution_count": 3,
   "id": "cd8fc93d",
   "metadata": {
    "execution": {
     "iopub.execute_input": "2025-02-03T18:35:26.631358Z",
     "iopub.status.busy": "2025-02-03T18:35:26.630961Z",
     "iopub.status.idle": "2025-02-03T18:35:26.646962Z",
     "shell.execute_reply": "2025-02-03T18:35:26.645822Z"
    },
    "papermill": {
     "duration": 0.025174,
     "end_time": "2025-02-03T18:35:26.648712",
     "exception": false,
     "start_time": "2025-02-03T18:35:26.623538",
     "status": "completed"
    },
    "tags": []
   },
   "outputs": [
    {
     "data": {
      "text/plain": [
       "Id                 0\n",
       "MSSubClass         0\n",
       "MSZoning           0\n",
       "LotFrontage      259\n",
       "LotArea            0\n",
       "                ... \n",
       "MoSold             0\n",
       "YrSold             0\n",
       "SaleType           0\n",
       "SaleCondition      0\n",
       "SalePrice          0\n",
       "Length: 81, dtype: int64"
      ]
     },
     "execution_count": 3,
     "metadata": {},
     "output_type": "execute_result"
    }
   ],
   "source": [
    "df_tr.isnull().sum()"
   ]
  },
  {
   "cell_type": "code",
   "execution_count": 4,
   "id": "29f250b4",
   "metadata": {
    "execution": {
     "iopub.execute_input": "2025-02-03T18:35:26.663137Z",
     "iopub.status.busy": "2025-02-03T18:35:26.662695Z",
     "iopub.status.idle": "2025-02-03T18:35:26.675516Z",
     "shell.execute_reply": "2025-02-03T18:35:26.674406Z"
    },
    "papermill": {
     "duration": 0.022005,
     "end_time": "2025-02-03T18:35:26.677434",
     "exception": false,
     "start_time": "2025-02-03T18:35:26.655429",
     "status": "completed"
    },
    "tags": []
   },
   "outputs": [
    {
     "data": {
      "text/plain": [
       "Id                 0\n",
       "MSSubClass         0\n",
       "MSZoning           4\n",
       "LotFrontage      227\n",
       "LotArea            0\n",
       "                ... \n",
       "MoSold             0\n",
       "YrSold             0\n",
       "SaleType           1\n",
       "SaleCondition      0\n",
       "SalePrice          0\n",
       "Length: 81, dtype: int64"
      ]
     },
     "execution_count": 4,
     "metadata": {},
     "output_type": "execute_result"
    }
   ],
   "source": [
    "df_te.isnull().sum()"
   ]
  },
  {
   "cell_type": "code",
   "execution_count": 5,
   "id": "b260bd5a",
   "metadata": {
    "execution": {
     "iopub.execute_input": "2025-02-03T18:35:26.692285Z",
     "iopub.status.busy": "2025-02-03T18:35:26.691885Z",
     "iopub.status.idle": "2025-02-03T18:35:26.740589Z",
     "shell.execute_reply": "2025-02-03T18:35:26.739515Z"
    },
    "papermill": {
     "duration": 0.058207,
     "end_time": "2025-02-03T18:35:26.742543",
     "exception": false,
     "start_time": "2025-02-03T18:35:26.684336",
     "status": "completed"
    },
    "tags": []
   },
   "outputs": [],
   "source": [
    "df_tr.fillna(df_tr.median(numeric_only = True), inplace = True)\n",
    "df_tr.fillna({col: df_tr[col].mode()[0] for col in df_tr.select_dtypes(include=[\"object\", \"category\"]).columns}, inplace = True)"
   ]
  },
  {
   "cell_type": "code",
   "execution_count": 6,
   "id": "88ecb897",
   "metadata": {
    "execution": {
     "iopub.execute_input": "2025-02-03T18:35:26.757265Z",
     "iopub.status.busy": "2025-02-03T18:35:26.756876Z",
     "iopub.status.idle": "2025-02-03T18:35:26.803335Z",
     "shell.execute_reply": "2025-02-03T18:35:26.802466Z"
    },
    "papermill": {
     "duration": 0.055801,
     "end_time": "2025-02-03T18:35:26.805221",
     "exception": false,
     "start_time": "2025-02-03T18:35:26.749420",
     "status": "completed"
    },
    "tags": []
   },
   "outputs": [],
   "source": [
    "df_te.fillna(df_tr.median(numeric_only = True), inplace = True)\n",
    "df_te.fillna({col: df_te[col].mode()[0] for col in df_te.select_dtypes(include=[\"object\", \"category\"]).columns}, inplace = True)"
   ]
  },
  {
   "cell_type": "code",
   "execution_count": 7,
   "id": "765640a7",
   "metadata": {
    "execution": {
     "iopub.execute_input": "2025-02-03T18:35:26.819674Z",
     "iopub.status.busy": "2025-02-03T18:35:26.819351Z",
     "iopub.status.idle": "2025-02-03T18:35:26.824954Z",
     "shell.execute_reply": "2025-02-03T18:35:26.824080Z"
    },
    "papermill": {
     "duration": 0.014627,
     "end_time": "2025-02-03T18:35:26.826649",
     "exception": false,
     "start_time": "2025-02-03T18:35:26.812022",
     "status": "completed"
    },
    "tags": []
   },
   "outputs": [],
   "source": [
    "def label_encode_categoricals(train_df, test_df):\n",
    "    le = LabelEncoder()\n",
    "\n",
    "    categorical_columns = train_df.select_dtypes(include=[\"object\", \"category\"]).columns\n",
    "    \n",
    "    for col in categorical_columns:\n",
    "        print(f\"Encoding column: {col}\")\n",
    "        \n",
    "        le.fit(train_df[col])\n",
    "\n",
    "        train_df[col] = le.transform(train_df[col])\n",
    "        test_df[col] = le.transform(test_df[col])\n",
    "\n",
    "        print(f\"Mapping for {col}:\")\n",
    "        for idx, category in enumerate(le.classes_):\n",
    "            print(f\"  {category} -> {idx}\")\n",
    "        print(\"\\n\") \n",
    "    \n",
    "    return train_df, test_df"
   ]
  },
  {
   "cell_type": "code",
   "execution_count": 8,
   "id": "71817717",
   "metadata": {
    "execution": {
     "iopub.execute_input": "2025-02-03T18:35:26.841548Z",
     "iopub.status.busy": "2025-02-03T18:35:26.841203Z",
     "iopub.status.idle": "2025-02-03T18:35:26.965702Z",
     "shell.execute_reply": "2025-02-03T18:35:26.964202Z"
    },
    "papermill": {
     "duration": 0.135156,
     "end_time": "2025-02-03T18:35:26.968874",
     "exception": false,
     "start_time": "2025-02-03T18:35:26.833718",
     "status": "completed"
    },
    "tags": []
   },
   "outputs": [
    {
     "name": "stdout",
     "output_type": "stream",
     "text": [
      "Encoding column: MSZoning\n",
      "Mapping for MSZoning:\n",
      "  C (all) -> 0\n",
      "  FV -> 1\n",
      "  RH -> 2\n",
      "  RL -> 3\n",
      "  RM -> 4\n",
      "\n",
      "\n",
      "Encoding column: Street\n",
      "Mapping for Street:\n",
      "  Grvl -> 0\n",
      "  Pave -> 1\n",
      "\n",
      "\n",
      "Encoding column: Alley\n",
      "Mapping for Alley:\n",
      "  Grvl -> 0\n",
      "  Pave -> 1\n",
      "\n",
      "\n",
      "Encoding column: LotShape\n",
      "Mapping for LotShape:\n",
      "  IR1 -> 0\n",
      "  IR2 -> 1\n",
      "  IR3 -> 2\n",
      "  Reg -> 3\n",
      "\n",
      "\n",
      "Encoding column: LandContour\n",
      "Mapping for LandContour:\n",
      "  Bnk -> 0\n",
      "  HLS -> 1\n",
      "  Low -> 2\n",
      "  Lvl -> 3\n",
      "\n",
      "\n",
      "Encoding column: Utilities\n",
      "Mapping for Utilities:\n",
      "  AllPub -> 0\n",
      "  NoSeWa -> 1\n",
      "\n",
      "\n",
      "Encoding column: LotConfig\n",
      "Mapping for LotConfig:\n",
      "  Corner -> 0\n",
      "  CulDSac -> 1\n",
      "  FR2 -> 2\n",
      "  FR3 -> 3\n",
      "  Inside -> 4\n",
      "\n",
      "\n",
      "Encoding column: LandSlope\n",
      "Mapping for LandSlope:\n",
      "  Gtl -> 0\n",
      "  Mod -> 1\n",
      "  Sev -> 2\n",
      "\n",
      "\n",
      "Encoding column: Neighborhood\n",
      "Mapping for Neighborhood:\n",
      "  Blmngtn -> 0\n",
      "  Blueste -> 1\n",
      "  BrDale -> 2\n",
      "  BrkSide -> 3\n",
      "  ClearCr -> 4\n",
      "  CollgCr -> 5\n",
      "  Crawfor -> 6\n",
      "  Edwards -> 7\n",
      "  Gilbert -> 8\n",
      "  IDOTRR -> 9\n",
      "  MeadowV -> 10\n",
      "  Mitchel -> 11\n",
      "  NAmes -> 12\n",
      "  NPkVill -> 13\n",
      "  NWAmes -> 14\n",
      "  NoRidge -> 15\n",
      "  NridgHt -> 16\n",
      "  OldTown -> 17\n",
      "  SWISU -> 18\n",
      "  Sawyer -> 19\n",
      "  SawyerW -> 20\n",
      "  Somerst -> 21\n",
      "  StoneBr -> 22\n",
      "  Timber -> 23\n",
      "  Veenker -> 24\n",
      "\n",
      "\n",
      "Encoding column: Condition1\n",
      "Mapping for Condition1:\n",
      "  Artery -> 0\n",
      "  Feedr -> 1\n",
      "  Norm -> 2\n",
      "  PosA -> 3\n",
      "  PosN -> 4\n",
      "  RRAe -> 5\n",
      "  RRAn -> 6\n",
      "  RRNe -> 7\n",
      "  RRNn -> 8\n",
      "\n",
      "\n",
      "Encoding column: Condition2\n",
      "Mapping for Condition2:\n",
      "  Artery -> 0\n",
      "  Feedr -> 1\n",
      "  Norm -> 2\n",
      "  PosA -> 3\n",
      "  PosN -> 4\n",
      "  RRAe -> 5\n",
      "  RRAn -> 6\n",
      "  RRNn -> 7\n",
      "\n",
      "\n",
      "Encoding column: BldgType\n",
      "Mapping for BldgType:\n",
      "  1Fam -> 0\n",
      "  2fmCon -> 1\n",
      "  Duplex -> 2\n",
      "  Twnhs -> 3\n",
      "  TwnhsE -> 4\n",
      "\n",
      "\n",
      "Encoding column: HouseStyle\n",
      "Mapping for HouseStyle:\n",
      "  1.5Fin -> 0\n",
      "  1.5Unf -> 1\n",
      "  1Story -> 2\n",
      "  2.5Fin -> 3\n",
      "  2.5Unf -> 4\n",
      "  2Story -> 5\n",
      "  SFoyer -> 6\n",
      "  SLvl -> 7\n",
      "\n",
      "\n",
      "Encoding column: RoofStyle\n",
      "Mapping for RoofStyle:\n",
      "  Flat -> 0\n",
      "  Gable -> 1\n",
      "  Gambrel -> 2\n",
      "  Hip -> 3\n",
      "  Mansard -> 4\n",
      "  Shed -> 5\n",
      "\n",
      "\n",
      "Encoding column: RoofMatl\n",
      "Mapping for RoofMatl:\n",
      "  ClyTile -> 0\n",
      "  CompShg -> 1\n",
      "  Membran -> 2\n",
      "  Metal -> 3\n",
      "  Roll -> 4\n",
      "  Tar&Grv -> 5\n",
      "  WdShake -> 6\n",
      "  WdShngl -> 7\n",
      "\n",
      "\n",
      "Encoding column: Exterior1st\n",
      "Mapping for Exterior1st:\n",
      "  AsbShng -> 0\n",
      "  AsphShn -> 1\n",
      "  BrkComm -> 2\n",
      "  BrkFace -> 3\n",
      "  CBlock -> 4\n",
      "  CemntBd -> 5\n",
      "  HdBoard -> 6\n",
      "  ImStucc -> 7\n",
      "  MetalSd -> 8\n",
      "  Plywood -> 9\n",
      "  Stone -> 10\n",
      "  Stucco -> 11\n",
      "  VinylSd -> 12\n",
      "  Wd Sdng -> 13\n",
      "  WdShing -> 14\n",
      "\n",
      "\n",
      "Encoding column: Exterior2nd\n",
      "Mapping for Exterior2nd:\n",
      "  AsbShng -> 0\n",
      "  AsphShn -> 1\n",
      "  Brk Cmn -> 2\n",
      "  BrkFace -> 3\n",
      "  CBlock -> 4\n",
      "  CmentBd -> 5\n",
      "  HdBoard -> 6\n",
      "  ImStucc -> 7\n",
      "  MetalSd -> 8\n",
      "  Other -> 9\n",
      "  Plywood -> 10\n",
      "  Stone -> 11\n",
      "  Stucco -> 12\n",
      "  VinylSd -> 13\n",
      "  Wd Sdng -> 14\n",
      "  Wd Shng -> 15\n",
      "\n",
      "\n",
      "Encoding column: MasVnrType\n",
      "Mapping for MasVnrType:\n",
      "  BrkCmn -> 0\n",
      "  BrkFace -> 1\n",
      "  Stone -> 2\n",
      "\n",
      "\n",
      "Encoding column: ExterQual\n",
      "Mapping for ExterQual:\n",
      "  Ex -> 0\n",
      "  Fa -> 1\n",
      "  Gd -> 2\n",
      "  TA -> 3\n",
      "\n",
      "\n",
      "Encoding column: ExterCond\n",
      "Mapping for ExterCond:\n",
      "  Ex -> 0\n",
      "  Fa -> 1\n",
      "  Gd -> 2\n",
      "  Po -> 3\n",
      "  TA -> 4\n",
      "\n",
      "\n",
      "Encoding column: Foundation\n",
      "Mapping for Foundation:\n",
      "  BrkTil -> 0\n",
      "  CBlock -> 1\n",
      "  PConc -> 2\n",
      "  Slab -> 3\n",
      "  Stone -> 4\n",
      "  Wood -> 5\n",
      "\n",
      "\n",
      "Encoding column: BsmtQual\n",
      "Mapping for BsmtQual:\n",
      "  Ex -> 0\n",
      "  Fa -> 1\n",
      "  Gd -> 2\n",
      "  TA -> 3\n",
      "\n",
      "\n",
      "Encoding column: BsmtCond\n",
      "Mapping for BsmtCond:\n",
      "  Fa -> 0\n",
      "  Gd -> 1\n",
      "  Po -> 2\n",
      "  TA -> 3\n",
      "\n",
      "\n",
      "Encoding column: BsmtExposure\n",
      "Mapping for BsmtExposure:\n",
      "  Av -> 0\n",
      "  Gd -> 1\n",
      "  Mn -> 2\n",
      "  No -> 3\n",
      "\n",
      "\n",
      "Encoding column: BsmtFinType1\n",
      "Mapping for BsmtFinType1:\n",
      "  ALQ -> 0\n",
      "  BLQ -> 1\n",
      "  GLQ -> 2\n",
      "  LwQ -> 3\n",
      "  Rec -> 4\n",
      "  Unf -> 5\n",
      "\n",
      "\n",
      "Encoding column: BsmtFinType2\n",
      "Mapping for BsmtFinType2:\n",
      "  ALQ -> 0\n",
      "  BLQ -> 1\n",
      "  GLQ -> 2\n",
      "  LwQ -> 3\n",
      "  Rec -> 4\n",
      "  Unf -> 5\n",
      "\n",
      "\n",
      "Encoding column: Heating\n",
      "Mapping for Heating:\n",
      "  Floor -> 0\n",
      "  GasA -> 1\n",
      "  GasW -> 2\n",
      "  Grav -> 3\n",
      "  OthW -> 4\n",
      "  Wall -> 5\n",
      "\n",
      "\n",
      "Encoding column: HeatingQC\n",
      "Mapping for HeatingQC:\n",
      "  Ex -> 0\n",
      "  Fa -> 1\n",
      "  Gd -> 2\n",
      "  Po -> 3\n",
      "  TA -> 4\n",
      "\n",
      "\n",
      "Encoding column: CentralAir\n",
      "Mapping for CentralAir:\n",
      "  N -> 0\n",
      "  Y -> 1\n",
      "\n",
      "\n",
      "Encoding column: Electrical\n",
      "Mapping for Electrical:\n",
      "  FuseA -> 0\n",
      "  FuseF -> 1\n",
      "  FuseP -> 2\n",
      "  Mix -> 3\n",
      "  SBrkr -> 4\n",
      "\n",
      "\n",
      "Encoding column: KitchenQual\n",
      "Mapping for KitchenQual:\n",
      "  Ex -> 0\n",
      "  Fa -> 1\n",
      "  Gd -> 2\n",
      "  TA -> 3\n",
      "\n",
      "\n",
      "Encoding column: Functional\n",
      "Mapping for Functional:\n",
      "  Maj1 -> 0\n",
      "  Maj2 -> 1\n",
      "  Min1 -> 2\n",
      "  Min2 -> 3\n",
      "  Mod -> 4\n",
      "  Sev -> 5\n",
      "  Typ -> 6\n",
      "\n",
      "\n",
      "Encoding column: FireplaceQu\n",
      "Mapping for FireplaceQu:\n",
      "  Ex -> 0\n",
      "  Fa -> 1\n",
      "  Gd -> 2\n",
      "  Po -> 3\n",
      "  TA -> 4\n",
      "\n",
      "\n",
      "Encoding column: GarageType\n",
      "Mapping for GarageType:\n",
      "  2Types -> 0\n",
      "  Attchd -> 1\n",
      "  Basment -> 2\n",
      "  BuiltIn -> 3\n",
      "  CarPort -> 4\n",
      "  Detchd -> 5\n",
      "\n",
      "\n",
      "Encoding column: GarageFinish\n",
      "Mapping for GarageFinish:\n",
      "  Fin -> 0\n",
      "  RFn -> 1\n",
      "  Unf -> 2\n",
      "\n",
      "\n",
      "Encoding column: GarageQual\n",
      "Mapping for GarageQual:\n",
      "  Ex -> 0\n",
      "  Fa -> 1\n",
      "  Gd -> 2\n",
      "  Po -> 3\n",
      "  TA -> 4\n",
      "\n",
      "\n",
      "Encoding column: GarageCond\n",
      "Mapping for GarageCond:\n",
      "  Ex -> 0\n",
      "  Fa -> 1\n",
      "  Gd -> 2\n",
      "  Po -> 3\n",
      "  TA -> 4\n",
      "\n",
      "\n",
      "Encoding column: PavedDrive\n",
      "Mapping for PavedDrive:\n",
      "  N -> 0\n",
      "  P -> 1\n",
      "  Y -> 2\n",
      "\n",
      "\n",
      "Encoding column: PoolQC\n",
      "Mapping for PoolQC:\n",
      "  Ex -> 0\n",
      "  Fa -> 1\n",
      "  Gd -> 2\n",
      "\n",
      "\n",
      "Encoding column: Fence\n",
      "Mapping for Fence:\n",
      "  GdPrv -> 0\n",
      "  GdWo -> 1\n",
      "  MnPrv -> 2\n",
      "  MnWw -> 3\n",
      "\n",
      "\n",
      "Encoding column: MiscFeature\n",
      "Mapping for MiscFeature:\n",
      "  Gar2 -> 0\n",
      "  Othr -> 1\n",
      "  Shed -> 2\n",
      "  TenC -> 3\n",
      "\n",
      "\n",
      "Encoding column: SaleType\n",
      "Mapping for SaleType:\n",
      "  COD -> 0\n",
      "  CWD -> 1\n",
      "  Con -> 2\n",
      "  ConLD -> 3\n",
      "  ConLI -> 4\n",
      "  ConLw -> 5\n",
      "  New -> 6\n",
      "  Oth -> 7\n",
      "  WD -> 8\n",
      "\n",
      "\n",
      "Encoding column: SaleCondition\n",
      "Mapping for SaleCondition:\n",
      "  Abnorml -> 0\n",
      "  AdjLand -> 1\n",
      "  Alloca -> 2\n",
      "  Family -> 3\n",
      "  Normal -> 4\n",
      "  Partial -> 5\n",
      "\n",
      "\n"
     ]
    }
   ],
   "source": [
    "df_tr, df_te = label_encode_categoricals(df_tr, df_te)"
   ]
  },
  {
   "cell_type": "code",
   "execution_count": 9,
   "id": "fb04056a",
   "metadata": {
    "execution": {
     "iopub.execute_input": "2025-02-03T18:35:26.984334Z",
     "iopub.status.busy": "2025-02-03T18:35:26.983970Z",
     "iopub.status.idle": "2025-02-03T18:35:27.001751Z",
     "shell.execute_reply": "2025-02-03T18:35:27.000674Z"
    },
    "papermill": {
     "duration": 0.027547,
     "end_time": "2025-02-03T18:35:27.003706",
     "exception": false,
     "start_time": "2025-02-03T18:35:26.976159",
     "status": "completed"
    },
    "tags": []
   },
   "outputs": [],
   "source": [
    "x = df_tr.drop(columns=[\"SalePrice\"])\n",
    "y = df_tr[\"SalePrice\"]\n",
    "\n",
    "X_train, X_test, y_train, y_test = train_test_split(x, y, test_size = 0.2, random_state = SEED)"
   ]
  },
  {
   "cell_type": "code",
   "execution_count": 10,
   "id": "7943ae30",
   "metadata": {
    "execution": {
     "iopub.execute_input": "2025-02-03T18:35:27.018873Z",
     "iopub.status.busy": "2025-02-03T18:35:27.018547Z",
     "iopub.status.idle": "2025-02-03T18:35:27.024237Z",
     "shell.execute_reply": "2025-02-03T18:35:27.022949Z"
    },
    "papermill": {
     "duration": 0.01532,
     "end_time": "2025-02-03T18:35:27.026055",
     "exception": false,
     "start_time": "2025-02-03T18:35:27.010735",
     "status": "completed"
    },
    "tags": []
   },
   "outputs": [],
   "source": [
    "def scale_numeric_columns(train_df, test_df):\n",
    "    numeric_columns = train_df.select_dtypes(include=['float64', 'int64']).columns\n",
    "\n",
    "    if len(numeric_columns) > 0:\n",
    "        scaler = StandardScaler()  \n",
    "        train_df[numeric_columns] = scaler.fit_transform(train_df[numeric_columns])\n",
    "        test_df[numeric_columns] = scaler.transform(test_df[numeric_columns])\n",
    "        print(f\"Scaled numeric columns: {numeric_columns}\")\n",
    "    else:\n",
    "        print(\"No numeric columns to scale.\")\n",
    "    \n",
    "    return train_df, test_df"
   ]
  },
  {
   "cell_type": "code",
   "execution_count": 11,
   "id": "b433dca5",
   "metadata": {
    "execution": {
     "iopub.execute_input": "2025-02-03T18:35:27.041148Z",
     "iopub.status.busy": "2025-02-03T18:35:27.040785Z",
     "iopub.status.idle": "2025-02-03T18:35:27.090970Z",
     "shell.execute_reply": "2025-02-03T18:35:27.089868Z"
    },
    "papermill": {
     "duration": 0.059791,
     "end_time": "2025-02-03T18:35:27.092888",
     "exception": false,
     "start_time": "2025-02-03T18:35:27.033097",
     "status": "completed"
    },
    "tags": []
   },
   "outputs": [
    {
     "name": "stdout",
     "output_type": "stream",
     "text": [
      "Scaled numeric columns: Index(['Id', 'MSSubClass', 'MSZoning', 'LotFrontage', 'LotArea', 'Street',\n",
      "       'Alley', 'LotShape', 'LandContour', 'Utilities', 'LotConfig',\n",
      "       'LandSlope', 'Neighborhood', 'Condition1', 'Condition2', 'BldgType',\n",
      "       'HouseStyle', 'OverallQual', 'OverallCond', 'YearBuilt', 'YearRemodAdd',\n",
      "       'RoofStyle', 'RoofMatl', 'Exterior1st', 'Exterior2nd', 'MasVnrType',\n",
      "       'MasVnrArea', 'ExterQual', 'ExterCond', 'Foundation', 'BsmtQual',\n",
      "       'BsmtCond', 'BsmtExposure', 'BsmtFinType1', 'BsmtFinSF1',\n",
      "       'BsmtFinType2', 'BsmtFinSF2', 'BsmtUnfSF', 'TotalBsmtSF', 'Heating',\n",
      "       'HeatingQC', 'CentralAir', 'Electrical', '1stFlrSF', '2ndFlrSF',\n",
      "       'LowQualFinSF', 'GrLivArea', 'BsmtFullBath', 'BsmtHalfBath', 'FullBath',\n",
      "       'HalfBath', 'BedroomAbvGr', 'KitchenAbvGr', 'KitchenQual',\n",
      "       'TotRmsAbvGrd', 'Functional', 'Fireplaces', 'FireplaceQu', 'GarageType',\n",
      "       'GarageYrBlt', 'GarageFinish', 'GarageCars', 'GarageArea', 'GarageQual',\n",
      "       'GarageCond', 'PavedDrive', 'WoodDeckSF', 'OpenPorchSF',\n",
      "       'EnclosedPorch', '3SsnPorch', 'ScreenPorch', 'PoolArea', 'PoolQC',\n",
      "       'Fence', 'MiscFeature', 'MiscVal', 'MoSold', 'YrSold', 'SaleType',\n",
      "       'SaleCondition'],\n",
      "      dtype='object')\n"
     ]
    }
   ],
   "source": [
    "X_train, X_test = scale_numeric_columns(X_train, X_test)"
   ]
  },
  {
   "cell_type": "markdown",
   "id": "264debc3",
   "metadata": {
    "papermill": {
     "duration": 0.007001,
     "end_time": "2025-02-03T18:35:27.107066",
     "exception": false,
     "start_time": "2025-02-03T18:35:27.100065",
     "status": "completed"
    },
    "tags": []
   },
   "source": [
    "## Models"
   ]
  },
  {
   "cell_type": "markdown",
   "id": "dfa769f3",
   "metadata": {
    "papermill": {
     "duration": 0.006597,
     "end_time": "2025-02-03T18:35:27.120691",
     "exception": false,
     "start_time": "2025-02-03T18:35:27.114094",
     "status": "completed"
    },
    "tags": []
   },
   "source": [
    "### Linear Regression"
   ]
  },
  {
   "cell_type": "code",
   "execution_count": 12,
   "id": "083401c9",
   "metadata": {
    "execution": {
     "iopub.execute_input": "2025-02-03T18:35:27.136032Z",
     "iopub.status.busy": "2025-02-03T18:35:27.135653Z",
     "iopub.status.idle": "2025-02-03T18:35:27.232748Z",
     "shell.execute_reply": "2025-02-03T18:35:27.231459Z"
    },
    "papermill": {
     "duration": 0.10684,
     "end_time": "2025-02-03T18:35:27.234602",
     "exception": false,
     "start_time": "2025-02-03T18:35:27.127762",
     "status": "completed"
    },
    "tags": []
   },
   "outputs": [
    {
     "name": "stdout",
     "output_type": "stream",
     "text": [
      "Linear Regression RMSLE: 0.255431826287633\n"
     ]
    }
   ],
   "source": [
    "linear_reg_model = LinearRegression()\n",
    "linear_reg_model.fit(X_train, y_train)\n",
    "y_pred_linear_reg = linear_reg_model.predict(X_test)\n",
    "y_pred_linear_reg = np.maximum(0.01, y_pred_linear_reg) \n",
    "\n",
    "rmsle_linear_reg = np.sqrt(mean_squared_log_error(y_test, y_pred_linear_reg))\n",
    "print(\"Linear Regression RMSLE:\", rmsle_linear_reg)"
   ]
  },
  {
   "cell_type": "markdown",
   "id": "49afb533",
   "metadata": {
    "papermill": {
     "duration": 0.007774,
     "end_time": "2025-02-03T18:35:27.250962",
     "exception": false,
     "start_time": "2025-02-03T18:35:27.243188",
     "status": "completed"
    },
    "tags": []
   },
   "source": [
    "### Ridge Regression"
   ]
  },
  {
   "cell_type": "code",
   "execution_count": 13,
   "id": "cb9b71f9",
   "metadata": {
    "execution": {
     "iopub.execute_input": "2025-02-03T18:35:27.266530Z",
     "iopub.status.busy": "2025-02-03T18:35:27.266115Z",
     "iopub.status.idle": "2025-02-03T18:35:27.291351Z",
     "shell.execute_reply": "2025-02-03T18:35:27.290136Z"
    },
    "papermill": {
     "duration": 0.035038,
     "end_time": "2025-02-03T18:35:27.293149",
     "exception": false,
     "start_time": "2025-02-03T18:35:27.258111",
     "status": "completed"
    },
    "tags": []
   },
   "outputs": [
    {
     "name": "stdout",
     "output_type": "stream",
     "text": [
      "Ridge Regression RMSLE: 0.2529152173140159\n"
     ]
    }
   ],
   "source": [
    "ridge_model = Ridge(alpha = 1.0)\n",
    "ridge_model.fit(X_train, y_train)\n",
    "y_pred_ridge = ridge_model.predict(X_test)\n",
    "y_pred_ridge = np.maximum(0.01, y_pred_ridge) \n",
    "\n",
    "rmsle_ridge = np.sqrt(mean_squared_log_error(y_test, y_pred_ridge))\n",
    "print(\"Ridge Regression RMSLE:\", rmsle_ridge)"
   ]
  },
  {
   "cell_type": "markdown",
   "id": "b9101c1b",
   "metadata": {
    "papermill": {
     "duration": 0.006758,
     "end_time": "2025-02-03T18:35:27.307197",
     "exception": false,
     "start_time": "2025-02-03T18:35:27.300439",
     "status": "completed"
    },
    "tags": []
   },
   "source": [
    "### Lasso Regression"
   ]
  },
  {
   "cell_type": "code",
   "execution_count": 14,
   "id": "7b496910",
   "metadata": {
    "execution": {
     "iopub.execute_input": "2025-02-03T18:35:27.323137Z",
     "iopub.status.busy": "2025-02-03T18:35:27.322727Z",
     "iopub.status.idle": "2025-02-03T18:35:27.423120Z",
     "shell.execute_reply": "2025-02-03T18:35:27.422016Z"
    },
    "papermill": {
     "duration": 0.110372,
     "end_time": "2025-02-03T18:35:27.425019",
     "exception": false,
     "start_time": "2025-02-03T18:35:27.314647",
     "status": "completed"
    },
    "tags": []
   },
   "outputs": [
    {
     "name": "stdout",
     "output_type": "stream",
     "text": [
      "Lasso Regression RMSLE: 0.25540165646819235\n"
     ]
    },
    {
     "name": "stderr",
     "output_type": "stream",
     "text": [
      "/usr/local/lib/python3.10/dist-packages/sklearn/linear_model/_coordinate_descent.py:631: ConvergenceWarning: Objective did not converge. You might want to increase the number of iterations, check the scale of the features or consider increasing regularisation. Duality gap: 1.619e+09, tolerance: 6.967e+08\n",
      "  model = cd_fast.enet_coordinate_descent(\n"
     ]
    }
   ],
   "source": [
    "lasso_model = Lasso(alpha = 0.1)\n",
    "lasso_model.fit(X_train, y_train)\n",
    "y_pred_lasso = lasso_model.predict(X_test)\n",
    "y_pred_lasso = np.maximum(0.01, y_pred_lasso) \n",
    "\n",
    "rmsle_lasso = np.sqrt(mean_squared_log_error(y_test, y_pred_lasso))\n",
    "print(\"Lasso Regression RMSLE:\", rmsle_lasso)"
   ]
  },
  {
   "cell_type": "markdown",
   "id": "1cb0b063",
   "metadata": {
    "papermill": {
     "duration": 0.00702,
     "end_time": "2025-02-03T18:35:27.441501",
     "exception": false,
     "start_time": "2025-02-03T18:35:27.434481",
     "status": "completed"
    },
    "tags": []
   },
   "source": [
    "### Decision Tree Regression"
   ]
  },
  {
   "cell_type": "code",
   "execution_count": 15,
   "id": "b79bac05",
   "metadata": {
    "execution": {
     "iopub.execute_input": "2025-02-03T18:35:27.456908Z",
     "iopub.status.busy": "2025-02-03T18:35:27.456567Z",
     "iopub.status.idle": "2025-02-03T18:35:27.503326Z",
     "shell.execute_reply": "2025-02-03T18:35:27.501839Z"
    },
    "papermill": {
     "duration": 0.056585,
     "end_time": "2025-02-03T18:35:27.505190",
     "exception": false,
     "start_time": "2025-02-03T18:35:27.448605",
     "status": "completed"
    },
    "tags": []
   },
   "outputs": [
    {
     "name": "stdout",
     "output_type": "stream",
     "text": [
      "Decision Tree RMSLE: 0.2202073180697097\n"
     ]
    }
   ],
   "source": [
    "deci_tree_reg_model = DecisionTreeRegressor()\n",
    "deci_tree_reg_model.fit(X_train, y_train)\n",
    "y_pred_deci_tree_reg = deci_tree_reg_model.predict(X_test)\n",
    "y_pred_deci_tree_reg = np.maximum(0.01, y_pred_deci_tree_reg) \n",
    "\n",
    "rmsle_deci_tree_reg = np.sqrt(mean_squared_log_error(y_test, y_pred_deci_tree_reg))\n",
    "print(\"Decision Tree RMSLE:\", rmsle_deci_tree_reg)"
   ]
  },
  {
   "cell_type": "markdown",
   "id": "12cb2f51",
   "metadata": {
    "papermill": {
     "duration": 0.006948,
     "end_time": "2025-02-03T18:35:27.519471",
     "exception": false,
     "start_time": "2025-02-03T18:35:27.512523",
     "status": "completed"
    },
    "tags": []
   },
   "source": [
    "### Random Forest Regression"
   ]
  },
  {
   "cell_type": "code",
   "execution_count": 16,
   "id": "694aaebb",
   "metadata": {
    "execution": {
     "iopub.execute_input": "2025-02-03T18:35:27.535111Z",
     "iopub.status.busy": "2025-02-03T18:35:27.534708Z",
     "iopub.status.idle": "2025-02-03T18:35:29.499099Z",
     "shell.execute_reply": "2025-02-03T18:35:29.497778Z"
    },
    "papermill": {
     "duration": 1.974265,
     "end_time": "2025-02-03T18:35:29.500891",
     "exception": false,
     "start_time": "2025-02-03T18:35:27.526626",
     "status": "completed"
    },
    "tags": []
   },
   "outputs": [
    {
     "name": "stdout",
     "output_type": "stream",
     "text": [
      "Random Forest RMSLE: 0.1543597028264805\n"
     ]
    }
   ],
   "source": [
    "rand_forest_reg_model = RandomForestRegressor(n_estimators = 100)\n",
    "rand_forest_reg_model.fit(X_train, y_train)\n",
    "y_pred_rand_forest_reg = rand_forest_reg_model.predict(X_test)\n",
    "y_pred_rand_forest_reg = np.maximum(0.01, y_pred_rand_forest_reg) \n",
    "\n",
    "rmsle_rand_forest_reg = np.sqrt(mean_squared_log_error(y_test, y_pred_rand_forest_reg))\n",
    "print(\"Random Forest RMSLE:\", rmsle_rand_forest_reg)"
   ]
  },
  {
   "cell_type": "markdown",
   "id": "660db482",
   "metadata": {
    "papermill": {
     "duration": 0.007419,
     "end_time": "2025-02-03T18:35:29.517328",
     "exception": false,
     "start_time": "2025-02-03T18:35:29.509909",
     "status": "completed"
    },
    "tags": []
   },
   "source": [
    "### SVR-Support Vector Regression"
   ]
  },
  {
   "cell_type": "code",
   "execution_count": 17,
   "id": "e166c255",
   "metadata": {
    "execution": {
     "iopub.execute_input": "2025-02-03T18:35:29.533864Z",
     "iopub.status.busy": "2025-02-03T18:35:29.533529Z",
     "iopub.status.idle": "2025-02-03T18:35:29.697908Z",
     "shell.execute_reply": "2025-02-03T18:35:29.696769Z"
    },
    "papermill": {
     "duration": 0.175052,
     "end_time": "2025-02-03T18:35:29.699642",
     "exception": false,
     "start_time": "2025-02-03T18:35:29.524590",
     "status": "completed"
    },
    "tags": []
   },
   "outputs": [
    {
     "name": "stdout",
     "output_type": "stream",
     "text": [
      "SVR RMSLE: 0.4320765398641082\n"
     ]
    }
   ],
   "source": [
    "svr_model = SVR(kernel = 'rbf')\n",
    "svr_model.fit(X_train, y_train)\n",
    "y_pred_svr = svr_model.predict(X_test)\n",
    "y_pred_svr = np.maximum(0.01, y_pred_svr)\n",
    "\n",
    "rmsle_svr = np.sqrt(mean_squared_log_error(y_test, y_pred_svr))\n",
    "print(\"SVR RMSLE:\", rmsle_svr)"
   ]
  },
  {
   "cell_type": "markdown",
   "id": "e1ff89e1",
   "metadata": {
    "papermill": {
     "duration": 0.006952,
     "end_time": "2025-02-03T18:35:29.714166",
     "exception": false,
     "start_time": "2025-02-03T18:35:29.707214",
     "status": "completed"
    },
    "tags": []
   },
   "source": [
    "### XGBoost"
   ]
  },
  {
   "cell_type": "code",
   "execution_count": 18,
   "id": "b8586404",
   "metadata": {
    "execution": {
     "iopub.execute_input": "2025-02-03T18:35:29.730018Z",
     "iopub.status.busy": "2025-02-03T18:35:29.729600Z",
     "iopub.status.idle": "2025-02-03T18:35:30.106976Z",
     "shell.execute_reply": "2025-02-03T18:35:30.106023Z"
    },
    "papermill": {
     "duration": 0.387506,
     "end_time": "2025-02-03T18:35:30.108971",
     "exception": false,
     "start_time": "2025-02-03T18:35:29.721465",
     "status": "completed"
    },
    "tags": []
   },
   "outputs": [
    {
     "name": "stdout",
     "output_type": "stream",
     "text": [
      "XGBoost RMSLE: 0.15454601685840746\n"
     ]
    }
   ],
   "source": [
    "xgb_model = xgb.XGBRegressor()\n",
    "xgb_model.fit(X_train, y_train)\n",
    "y_pred_xgb = xgb_model.predict(X_test)\n",
    "y_pred_xgb = np.maximum(0.01, y_pred_xgb) \n",
    "\n",
    "rmsle_xgb = np.sqrt(mean_squared_log_error(y_test, y_pred_xgb))\n",
    "print(\"XGBoost RMSLE:\", rmsle_xgb)"
   ]
  },
  {
   "cell_type": "markdown",
   "id": "d412bd5b",
   "metadata": {
    "papermill": {
     "duration": 0.007107,
     "end_time": "2025-02-03T18:35:30.125344",
     "exception": false,
     "start_time": "2025-02-03T18:35:30.118237",
     "status": "completed"
    },
    "tags": []
   },
   "source": [
    "### LightGBM"
   ]
  },
  {
   "cell_type": "code",
   "execution_count": 19,
   "id": "10c5618d",
   "metadata": {
    "execution": {
     "iopub.execute_input": "2025-02-03T18:35:30.141078Z",
     "iopub.status.busy": "2025-02-03T18:35:30.140715Z",
     "iopub.status.idle": "2025-02-03T18:35:30.399564Z",
     "shell.execute_reply": "2025-02-03T18:35:30.398491Z"
    },
    "papermill": {
     "duration": 0.268729,
     "end_time": "2025-02-03T18:35:30.401385",
     "exception": false,
     "start_time": "2025-02-03T18:35:30.132656",
     "status": "completed"
    },
    "tags": []
   },
   "outputs": [
    {
     "name": "stdout",
     "output_type": "stream",
     "text": [
      "[LightGBM] [Info] Auto-choosing row-wise multi-threading, the overhead of testing was 0.004229 seconds.\n",
      "You can set `force_row_wise=true` to remove the overhead.\n",
      "And if memory is not enough, you can set `force_col_wise=true`.\n",
      "[LightGBM] [Info] Total Bins 3419\n",
      "[LightGBM] [Info] Number of data points in the train set: 1168, number of used features: 73\n",
      "[LightGBM] [Info] Start training from score 181441.541952\n",
      "LightGBM RMSLE: 0.14558274803071336\n"
     ]
    }
   ],
   "source": [
    "lgb_model = lgb.LGBMRegressor()\n",
    "lgb_model.fit(X_train, y_train)\n",
    "y_pred_lgb = lgb_model.predict(X_test)\n",
    "y_pred_lgb = np.maximum(0.01, y_pred_lgb) \n",
    "\n",
    "rmsle_lgb = np.sqrt(mean_squared_log_error(y_test, y_pred_lgb))\n",
    "print(\"LightGBM RMSLE:\", rmsle_lgb)"
   ]
  },
  {
   "cell_type": "markdown",
   "id": "d272c888",
   "metadata": {
    "papermill": {
     "duration": 0.007181,
     "end_time": "2025-02-03T18:35:30.416697",
     "exception": false,
     "start_time": "2025-02-03T18:35:30.409516",
     "status": "completed"
    },
    "tags": []
   },
   "source": [
    "Based on the training results, the top-performing models are XGBoost, LightGBM, and Random Forest Regression. Among them, LightGBM achieved the best performance."
   ]
  },
  {
   "cell_type": "code",
   "execution_count": 20,
   "id": "2e04f2de",
   "metadata": {
    "execution": {
     "iopub.execute_input": "2025-02-03T18:35:30.432905Z",
     "iopub.status.busy": "2025-02-03T18:35:30.432535Z",
     "iopub.status.idle": "2025-02-03T18:35:30.778495Z",
     "shell.execute_reply": "2025-02-03T18:35:30.777289Z"
    },
    "papermill": {
     "duration": 0.356403,
     "end_time": "2025-02-03T18:35:30.780472",
     "exception": false,
     "start_time": "2025-02-03T18:35:30.424069",
     "status": "completed"
    },
    "tags": []
   },
   "outputs": [
    {
     "data": {
      "image/png": "[encoded data removed]",
      "text/plain": [
       "<Figure size 1000x600 with 1 Axes>"
      ]
     },
     "metadata": {},
     "output_type": "display_data"
    }
   ],
   "source": [
    "plt.figure(figsize=(10, 6))\n",
    "plt.scatter(range(len(y_test)), y_test, label='Actual Values', color='blue', marker='o')\n",
    "plt.scatter(range(len(y_pred_xgb)), y_pred_xgb, label='Predicted Values', color='red', marker='x')\n",
    "plt.title('Actual vs Predicted Values (XGBoost)')\n",
    "plt.xlabel('Samples')\n",
    "plt.ylabel('Values')\n",
    "plt.legend()\n",
    "plt.show()"
   ]
  },
  {
   "cell_type": "code",
   "execution_count": 21,
   "id": "ad1d6928",
   "metadata": {
    "execution": {
     "iopub.execute_input": "2025-02-03T18:35:30.800066Z",
     "iopub.status.busy": "2025-02-03T18:35:30.799653Z",
     "iopub.status.idle": "2025-02-03T18:35:31.066286Z",
     "shell.execute_reply": "2025-02-03T18:35:31.065316Z"
    },
    "papermill": {
     "duration": 0.278489,
     "end_time": "2025-02-03T18:35:31.068279",
     "exception": false,
     "start_time": "2025-02-03T18:35:30.789790",
     "status": "completed"
    },
    "tags": []
   },
   "outputs": [
    {
     "data": {
      "image/png": "[encoded data removed]",
      "text/plain": [
       "<Figure size 1000x600 with 1 Axes>"
      ]
     },
     "metadata": {},
     "output_type": "display_data"
    }
   ],
   "source": [
    "plt.figure(figsize=(10, 6))\n",
    "plt.scatter(range(len(y_test)), y_test, label='Actual Values', color='blue', marker='o')\n",
    "plt.scatter(range(len(y_pred_rand_forest_reg)), y_pred_rand_forest_reg, label='Predicted Values', color='red', marker='x')\n",
    "plt.title('Actual vs Predicted Values (Random Forest Regression)')\n",
    "plt.xlabel('Samples')\n",
    "plt.ylabel('Values')\n",
    "plt.legend()\n",
    "plt.show()"
   ]
  },
  {
   "cell_type": "code",
   "execution_count": 22,
   "id": "92033eb0",
   "metadata": {
    "execution": {
     "iopub.execute_input": "2025-02-03T18:35:31.090435Z",
     "iopub.status.busy": "2025-02-03T18:35:31.090078Z",
     "iopub.status.idle": "2025-02-03T18:35:31.351575Z",
     "shell.execute_reply": "2025-02-03T18:35:31.350445Z"
    },
    "papermill": {
     "duration": 0.275161,
     "end_time": "2025-02-03T18:35:31.353854",
     "exception": false,
     "start_time": "2025-02-03T18:35:31.078693",
     "status": "completed"
    },
    "tags": []
   },
   "outputs": [
    {
     "data": {
      "image/png": "[encoded data removed]",
      "text/plain": [
       "<Figure size 1000x600 with 1 Axes>"
      ]
     },
     "metadata": {},
     "output_type": "display_data"
    }
   ],
   "source": [
    "plt.figure(figsize=(10, 6))\n",
    "plt.scatter(range(len(y_test)), y_test, label='Actual Values', color='blue', marker='o')\n",
    "plt.scatter(range(len(y_pred_lgb)), y_pred_lgb, label='Predicted Values', color='red', marker='x')\n",
    "plt.title('Actual vs Predicted Values (LightGBM)')\n",
    "plt.xlabel('Samples')\n",
    "plt.ylabel('Values')\n",
    "plt.legend()\n",
    "plt.show()"
   ]
  },
  {
   "cell_type": "markdown",
   "id": "3a9e1acf",
   "metadata": {
    "papermill": {
     "duration": 0.011585,
     "end_time": "2025-02-03T18:35:31.377805",
     "exception": false,
     "start_time": "2025-02-03T18:35:31.366220",
     "status": "completed"
    },
    "tags": []
   },
   "source": [
    "## Result"
   ]
  },
  {
   "cell_type": "code",
   "execution_count": 23,
   "id": "57576577",
   "metadata": {
    "execution": {
     "iopub.execute_input": "2025-02-03T18:35:31.402571Z",
     "iopub.status.busy": "2025-02-03T18:35:31.402221Z",
     "iopub.status.idle": "2025-02-03T18:35:31.415136Z",
     "shell.execute_reply": "2025-02-03T18:35:31.414035Z"
    },
    "papermill": {
     "duration": 0.027456,
     "end_time": "2025-02-03T18:35:31.417144",
     "exception": false,
     "start_time": "2025-02-03T18:35:31.389688",
     "status": "completed"
    },
    "tags": []
   },
   "outputs": [],
   "source": [
    "df_te_x = df_te.drop(columns=[\"SalePrice\"])\n",
    "df_test_lgb = lgb_model.predict(df_te_x)"
   ]
  },
  {
   "cell_type": "code",
   "execution_count": 24,
   "id": "2ffcded4",
   "metadata": {
    "execution": {
     "iopub.execute_input": "2025-02-03T18:35:31.441775Z",
     "iopub.status.busy": "2025-02-03T18:35:31.441443Z",
     "iopub.status.idle": "2025-02-03T18:35:31.455286Z",
     "shell.execute_reply": "2025-02-03T18:35:31.454248Z"
    },
    "papermill": {
     "duration": 0.028261,
     "end_time": "2025-02-03T18:35:31.457098",
     "exception": false,
     "start_time": "2025-02-03T18:35:31.428837",
     "status": "completed"
    },
    "tags": []
   },
   "outputs": [],
   "source": [
    "output = pd.DataFrame({\n",
    "    'Id': df_te_x['Id'], \n",
    "    'SalePrice': df_test_lgb\n",
    "})\n",
    "\n",
    "output.to_csv('submission.csv', index=False)"
   ]
  }
 ],
 "metadata": {
  "kaggle": {
   "accelerator": "none",
   "dataSources": [
    {
     "databundleVersionId": 868283,
     "sourceId": 5407,
     "sourceType": "competition"
    }
   ],
   "dockerImageVersionId": 30839,
   "isGpuEnabled": false,
   "isInternetEnabled": true,
   "language": "python",
   "sourceType": "notebook"
  },
  "kernelspec": {
   "display_name": "Python 3",
   "language": "python",
   "name": "python3"
  },
  "language_info": {
   "codemirror_mode": {
    "name": "ipython",
    "version": 3
   },
   "file_extension": ".py",
   "mimetype": "text/x-python",
   "name": "python",
   "nbconvert_exporter": "python",
   "pygments_lexer": "ipython3",
   "version": "3.10.12"
  },
  "papermill": {
   "default_parameters": {},
   "duration": 15.706944,
   "end_time": "2025-02-03T18:35:32.491343",
   "environment_variables": {},
   "exception": null,
   "input_path": "__notebook__.ipynb",
   "output_path": "__notebook__.ipynb",
   "parameters": {},
   "start_time": "2025-02-03T18:35:16.784399",
   "version": "2.6.0"
  }
 },
 "nbformat": 4,
 "nbformat_minor": 5
}
